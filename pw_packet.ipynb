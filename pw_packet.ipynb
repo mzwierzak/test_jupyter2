{
 "cells": [
  {
   "cell_type": "code",
   "execution_count": 4,
   "id": "7491705c-ca3d-41b0-b678-8e4afac00f4e",
   "metadata": {},
   "outputs": [],
   "source": [
    "%matplotlib tk"
   ]
  },
  {
   "cell_type": "markdown",
   "id": "d2540cb1-13c3-4e66-86ca-9a36822c19e5",
   "metadata": {},
   "source": [
    "# Plan wave packet\n",
    "## Localization in real and momentum ($k$) space\n",
    "\n",
    "The demonstration of $\\Delta k \\cdot \\Delta x \\approx h$ relation"
   ]
  },
  {
   "cell_type": "code",
   "execution_count": 5,
   "id": "1075b0ed-c4c4-4647-90d4-4825d29a0a53",
   "metadata": {},
   "outputs": [],
   "source": [
    "import numpy as np\n",
    "from numpy import sin, cos,tan,sqrt, exp,pi\n",
    "import matplotlib.pyplot as plt\n",
    "from scipy.integrate import quad\n",
    "from scipy.constants import physical_constants as scpc\n",
    "from scipy.constants import hbar, h, m_e\n",
    "from scipy.constants import angstrom as angs\n",
    "import matplotlib.animation as animation\n",
    "from matplotlib.gridspec import GridSpec\n",
    "import matplotlib.colors as mcolors"
   ]
  },
  {
   "cell_type": "code",
   "execution_count": 6,
   "id": "6f063965-fff9-406f-aec7-2a58b40d2406",
   "metadata": {},
   "outputs": [],
   "source": [
    "plt.rcParams['text.usetex'] = True\n",
    "\n",
    "Delta_k=0.01/angs    # Spread/uncertainity in k_space\n",
    "k0=1.0/angs       # Central wave vector value\n",
    "\n",
    "\n",
    "time=5*10**(-12)\n",
    "ecoeff=hbar**2/(2*m_e)\n",
    "vg=hbar*k0/(m_e) \n",
    "\n",
    "eV=scpc[\"electron volt\"][0]\n",
    "converted_num = \"% s\" % Delta_k\n",
    "converted_num1 = str(Delta_k)\n",
    "\n",
    "def cutoff(kn):   \n",
    "    # The simplest cutoff function:\n",
    "    #    phi(k)=1 if |k-k0| < Delta_k; phi(k)=0 otherwise\n",
    "    # We normalize by 1/sqrt(2*Delta_k)   \n",
    "    ct=np.where(np.abs(kn-k0)<Delta_k,1,0)/sqrt(2*Delta_k)        \n",
    "    return(ct)\n",
    "\n",
    "def ene(k):       # Free el. energy hbar^2*k^2/2m\n",
    "    return(ecoeff*k**2)\n",
    "    \n",
    "def int_func(xn,k,t): # The integrand \n",
    "    f=cutoff(k)*exp(1j*(k*xn-ene(k)*t/hbar))\n",
    "    return(f)\n",
    "    \n",
    "kint= np.linspace(0.8, 1.2,40000)/angs\n",
    "def packet(x,t):      # Thw wave packet defined by integration of phi(k)*e^i((k-k0))\n",
    "    res=np.trapz(int_func(x,kint,t),kint)\n",
    "    #res=np.real(res)\n",
    "    return(res)    \n",
    "    \n",
    "colors=['r','g','b','c','g','m','gold','tab:olive','m','xkcd:sky blue','xkcd:neon pink']\n",
    "nplots=1\n",
    "xmin=55\n",
    "\n",
    "xmin=56000\n",
    "xmax=xmin+4000\n",
    "\n",
    "x0= np.linspace(xmin, xmax, 300)*angs\n",
    "x=np.zeros((nplots,len(x0)),dtype=float)\n",
    "y=np.zeros((nplots,len(x0)),dtype=float)\n",
    "z=np.zeros((nplots,len(x0)),dtype=float)\n",
    "\n",
    "fig  = plt.figure()\n",
    "\n",
    "plt.rcParams['text.usetex'] = True\n",
    "\n",
    "ax= fig.add_subplot()\n",
    "\n",
    "x[0,:]=x0/angs\n",
    "#y[0,:]=Delta_k*angs\n",
    "z[0,:]=[np.abs(packet(x0[j],time))**2 for j in range(len(x0))]\n",
    "z[0,:]=z[0,:]/10**9\n",
    "max_h=np.max(z[0,:])\n",
    "ax.plot(x[0,:],z[0,:],color='blue',linewidth=2)\n",
    "\n",
    "\n",
    "ax.set_xlabel('$x\\;[A]$', fontsize=25)\n",
    "ax.set_xlim(xmin, xmax)\n",
    "ax.set_ylim(0, 0.2)\n",
    "\n",
    "plt.show()"
   ]
  },
  {
   "cell_type": "code",
   "execution_count": null,
   "id": "230b146e-c693-4d84-8193-5e80e13425a3",
   "metadata": {},
   "outputs": [],
   "source": []
  }
 ],
 "metadata": {
  "kernelspec": {
   "display_name": "Python 3 (ipykernel)",
   "language": "python",
   "name": "python3"
  },
  "language_info": {
   "codemirror_mode": {
    "name": "ipython",
    "version": 3
   },
   "file_extension": ".py",
   "mimetype": "text/x-python",
   "name": "python",
   "nbconvert_exporter": "python",
   "pygments_lexer": "ipython3",
   "version": "3.9.12"
  }
 },
 "nbformat": 4,
 "nbformat_minor": 5
}
